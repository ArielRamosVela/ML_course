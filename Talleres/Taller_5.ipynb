{
 "cells": [
  {
   "cell_type": "code",
   "execution_count": 5,
   "metadata": {},
   "outputs": [],
   "source": [
    "import numpy as np\n",
    "import matplotlib.pyplot as plt"
   ]
  },
  {
   "cell_type": "markdown",
   "metadata": {},
   "source": [
    "### Carga el Titanic dataset y separa los datos de entramiento 80% y prueba 20%\n",
    "\n",
    "- Transforma todos los datos a números, e.g True or False to 0 and 1\n",
    "- Separa X (features) y Y (labels) del dataset\n",
    "- Reshape Y para que sean matrices. e.g (891,) a (891,1)\n",
    "- Separa los datos(entramiento 80% y prueba 20%). Utiliza un random_state=0 para la separación del dataset."
   ]
  },
  {
   "cell_type": "code",
   "execution_count": 101,
   "metadata": {},
   "outputs": [
    {
     "data": {
      "text/html": [
       "<div>\n",
       "<style scoped>\n",
       "    .dataframe tbody tr th:only-of-type {\n",
       "        vertical-align: middle;\n",
       "    }\n",
       "\n",
       "    .dataframe tbody tr th {\n",
       "        vertical-align: top;\n",
       "    }\n",
       "\n",
       "    .dataframe thead th {\n",
       "        text-align: right;\n",
       "    }\n",
       "</style>\n",
       "<table border=\"1\" class=\"dataframe\">\n",
       "  <thead>\n",
       "    <tr style=\"text-align: right;\">\n",
       "      <th></th>\n",
       "      <th>Survived</th>\n",
       "      <th>Pclass</th>\n",
       "      <th>Sex</th>\n",
       "      <th>Age</th>\n",
       "      <th>SibSp</th>\n",
       "      <th>Parch</th>\n",
       "      <th>Fare</th>\n",
       "      <th>Embarked_Q</th>\n",
       "      <th>Embarked_S</th>\n",
       "    </tr>\n",
       "  </thead>\n",
       "  <tbody>\n",
       "    <tr>\n",
       "      <th>0</th>\n",
       "      <td>0</td>\n",
       "      <td>3</td>\n",
       "      <td>1</td>\n",
       "      <td>-0.565736</td>\n",
       "      <td>1</td>\n",
       "      <td>0</td>\n",
       "      <td>-0.502445</td>\n",
       "      <td>0</td>\n",
       "      <td>1</td>\n",
       "    </tr>\n",
       "    <tr>\n",
       "      <th>1</th>\n",
       "      <td>1</td>\n",
       "      <td>1</td>\n",
       "      <td>0</td>\n",
       "      <td>0.663861</td>\n",
       "      <td>1</td>\n",
       "      <td>0</td>\n",
       "      <td>0.786845</td>\n",
       "      <td>0</td>\n",
       "      <td>0</td>\n",
       "    </tr>\n",
       "    <tr>\n",
       "      <th>2</th>\n",
       "      <td>1</td>\n",
       "      <td>3</td>\n",
       "      <td>0</td>\n",
       "      <td>-0.258337</td>\n",
       "      <td>0</td>\n",
       "      <td>0</td>\n",
       "      <td>-0.488854</td>\n",
       "      <td>0</td>\n",
       "      <td>1</td>\n",
       "    </tr>\n",
       "    <tr>\n",
       "      <th>3</th>\n",
       "      <td>1</td>\n",
       "      <td>1</td>\n",
       "      <td>0</td>\n",
       "      <td>0.433312</td>\n",
       "      <td>1</td>\n",
       "      <td>0</td>\n",
       "      <td>0.420730</td>\n",
       "      <td>0</td>\n",
       "      <td>1</td>\n",
       "    </tr>\n",
       "    <tr>\n",
       "      <th>4</th>\n",
       "      <td>0</td>\n",
       "      <td>3</td>\n",
       "      <td>1</td>\n",
       "      <td>0.433312</td>\n",
       "      <td>0</td>\n",
       "      <td>0</td>\n",
       "      <td>-0.486337</td>\n",
       "      <td>0</td>\n",
       "      <td>1</td>\n",
       "    </tr>\n",
       "  </tbody>\n",
       "</table>\n",
       "</div>"
      ],
      "text/plain": [
       "   Survived  Pclass  Sex       Age  SibSp  Parch      Fare  Embarked_Q  \\\n",
       "0         0       3    1 -0.565736      1      0 -0.502445           0   \n",
       "1         1       1    0  0.663861      1      0  0.786845           0   \n",
       "2         1       3    0 -0.258337      0      0 -0.488854           0   \n",
       "3         1       1    0  0.433312      1      0  0.420730           0   \n",
       "4         0       3    1  0.433312      0      0 -0.486337           0   \n",
       "\n",
       "   Embarked_S  \n",
       "0           1  \n",
       "1           0  \n",
       "2           1  \n",
       "3           1  \n",
       "4           1  "
      ]
     },
     "execution_count": 101,
     "metadata": {},
     "output_type": "execute_result"
    }
   ],
   "source": [
    "import pandas as pd\n",
    "\n",
    "df = pd.read_csv('Titanic-Dataset-Preprocesado.csv')\n",
    "\n",
    "df['Embarked_Q'] = df['Embarked_Q'].astype(int)\n",
    "df['Embarked_S'] = df['Embarked_S'].astype(int)\n",
    "\n",
    "df.head()"
   ]
  },
  {
   "cell_type": "code",
   "execution_count": 102,
   "metadata": {},
   "outputs": [
    {
     "name": "stdout",
     "output_type": "stream",
     "text": [
      "X shape: (891, 8)\n",
      "Y shape: (891, 1)\n"
     ]
    }
   ],
   "source": [
    "## Completar reshape"
   ]
  },
  {
   "cell_type": "code",
   "execution_count": null,
   "metadata": {},
   "outputs": [],
   "source": [
    "## Completar con la separación de datos de entrenamiento y prueba"
   ]
  },
  {
   "cell_type": "markdown",
   "metadata": {},
   "source": [
    "### Recapitulación regresión logística:\n",
    "\n",
    "#### Ecuaciones :\n",
    "\n",
    "$ W = \\begin{bmatrix}w_1 \\\\ w_2 \\\\ . \\\\ . \\\\ w_n \\end{bmatrix}_{ (n,1)}$  ......... La inicializamos con zeros (0s)\n",
    "\n",
    "$ B = $ parametro simple (solo un valor, no una matriz)\n",
    "\n",
    "$ X = \\begin{bmatrix}. & . & .  \\\\ .  & . & .  \\\\ . & . & .  \\\\ . & . & .  \\\\ \\end{bmatrix}_{(m,n)}$\n",
    "\n",
    "$ Y = \\begin{bmatrix}. \\\\ . \\\\ . \\\\  . \\\\ \\end{bmatrix}_{(m,1)}$\n",
    "\n",
    "\n",
    "$\\sigma = \\frac{1}{(1 + e^{-x})}  $   ......... (sigmoid function)\n",
    "\n",
    "\n",
    "A = $\\sigma ( XW + b ) $    ........ probabilidades con shape (m,1) \n",
    "\n",
    "\n",
    "#### Cost function :\n",
    "\n",
    "$ cost = - \\frac{1}{m} \\sum_{i=1}^m [ y*log(a) + (1 - y)*log(1 - a) ] $\n",
    "\n",
    "#### Gradient Descent \n",
    "\n",
    "- Inicializar $W$ y $B$ a 0\n",
    "- Repetir durante $i$ iteracciones:\n",
    "\n",
    "    - $Z = XW + B$\n",
    "    - $A = \\sigma (Z)$ \n",
    "\n",
    "    - $dW = \\frac{\\partial COST }{\\partial W} = X.T( A - Y ) $ ...... shape (n,1) \n",
    "\n",
    "    - $dB = \\frac{\\partial COST }{\\partial B} = ( A - Y ) $\n",
    "\n",
    "    - $W = W - \\alpha * dW $ ......shape(n,1)\n",
    "\n",
    "    - $B = B - \\alpha * dB $\n"
   ]
  },
  {
   "cell_type": "markdown",
   "metadata": {},
   "source": [
    "### Implementa la función sigmoide.\n",
    "\n",
    "- Puedes utilizar np.exp https://numpy.org/doc/2.0/reference/generated/numpy.exp.html\n",
    "- Comprueba que tu función es correcta. Utiliza un array de 0s. El resultado debe ser 0.5."
   ]
  },
  {
   "cell_type": "code",
   "execution_count": 65,
   "metadata": {},
   "outputs": [],
   "source": [
    "def sigmoid(x):\n",
    "\n",
    "    return "
   ]
  },
  {
   "cell_type": "code",
   "execution_count": 66,
   "metadata": {},
   "outputs": [
    {
     "data": {
      "text/plain": [
       "array([[0.5],\n",
       "       [0.5],\n",
       "       [0.5],\n",
       "       [0.5],\n",
       "       [0.5],\n",
       "       [0.5],\n",
       "       [0.5],\n",
       "       [0.5],\n",
       "       [0.5],\n",
       "       [0.5]])"
      ]
     },
     "execution_count": 66,
     "metadata": {},
     "output_type": "execute_result"
    }
   ],
   "source": [
    "sigmoid(np.zeros((10, 1)))"
   ]
  },
  {
   "cell_type": "markdown",
   "metadata": {},
   "source": [
    "### Visualiza la función sigmoide para valores de z entre -100 y 100\n",
    "\n",
    "- Puedes utilizar la función np.arange para crear los valores (https://numpy.org/doc/stable/reference/generated/numpy.arange.html)"
   ]
  },
  {
   "cell_type": "code",
   "execution_count": 43,
   "metadata": {},
   "outputs": [
    {
     "data": {
      "text/plain": [
       "[<matplotlib.lines.Line2D at 0x16e1d3950>]"
      ]
     },
     "execution_count": 43,
     "metadata": {},
     "output_type": "execute_result"
    },
    {
     "data": {
      "image/png": "[encoded data removed]",
      "text/plain": [
       "<Figure size 640x480 with 1 Axes>"
      ]
     },
     "metadata": {},
     "output_type": "display_data"
    }
   ],
   "source": []
  },
  {
   "cell_type": "markdown",
   "metadata": {},
   "source": [
    "#### Implementa el algoritmo de Regresión lineal."
   ]
  },
  {
   "cell_type": "code",
   "execution_count": 89,
   "metadata": {},
   "outputs": [],
   "source": [
    "class MyLogisticRegression:\n",
    "\n",
    "    def __init__(self, learning_rate, iterations):\n",
    "        self.learning_rate = learning_rate\n",
    "        self.iterations = iterations\n",
    "\n",
    "    def fit(self, X, Y):\n",
    "    \n",
    "        m =  # Completar con el número de samples (filas)\n",
    "        n =  # Completar con el número de features (rows)\n",
    "        \n",
    "        #Inicializar W y B a cero\n",
    "        #W es una matriz (n,1) y B es un valor simple.\n",
    "\n",
    "        self.W = #Completar\n",
    "        self.B = #Completar\n",
    "        \n",
    "        self.cost_list = []\n",
    "        \n",
    "        for i in range(self.iterations):\n",
    "            \n",
    "            Z = #Completar - Calcula las probabilidades\n",
    "\n",
    "            A = #Completar - Aplica tu función sigmoid a Z\n",
    "            \n",
    "            # cost function\n",
    "            cost = # Completar - Calcula el costo\n",
    "            \n",
    "            # Aplica el algoritmo de Gradient Descent\n",
    "\n",
    "            dW = #Completar\n",
    "            dB = #Completar\n",
    "            \n",
    "            self.W = #Completar\n",
    "            self.B = #Completar\n",
    "            \n",
    "            # Keeping track of our cost function value\n",
    "            self.cost_list.append(cost)\n",
    "            \n",
    "            if(i%(self.iterations/10) == 0):\n",
    "                print(\"cost after \", i, \"iteration is : \", cost)\n",
    "        \n",
    "    def predict(self, X):\n",
    "\n",
    "        Z = np.dot(X, self.W) + self.B\n",
    "        A = sigmoid(Z) \n",
    "        A = A > 0.5 \n",
    "        A = np.array(A, dtype = 'int64')\n",
    "        return A"
   ]
  },
  {
   "cell_type": "markdown",
   "metadata": {},
   "source": [
    "## Entrena tu algoritmo y visualiza el costo\n",
    "\n",
    "- Utiliza el dataset de entrenamiento\n",
    "- Utiliza un learning rate = 0.0015\n",
    "- Utiliza 100000 iteraciones.\n",
    "- Intenta con un número diferente de iteraciones. Cuándo converge el algoritmo?\n",
    "- Haz un plot del costo en comparación al número de iteraciones (cost en el eje Y e iteraciones en el eje X). Para esto puedes utilizar la propiedad cost_list de tu algoritmo"
   ]
  },
  {
   "cell_type": "code",
   "execution_count": null,
   "metadata": {},
   "outputs": [],
   "source": [
    "iterations = 120000\n",
    "learning_rate = 0.0015\n",
    "\n",
    "#Completar \n",
    "my_logistic_regression = \n"
   ]
  },
  {
   "cell_type": "code",
   "execution_count": null,
   "metadata": {},
   "outputs": [],
   "source": [
    "#Completar con el plot de cost vs iterations\n"
   ]
  },
  {
   "cell_type": "markdown",
   "metadata": {},
   "source": [
    "#### Utiliza tu algoritmo para predecir las categorías de los datos de prueba\n",
    "\n",
    "- Calcula la accuracy, precision, recall y f1-score"
   ]
  },
  {
   "cell_type": "code",
   "execution_count": 91,
   "metadata": {},
   "outputs": [],
   "source": [
    "y_pred = "
   ]
  },
  {
   "cell_type": "code",
   "execution_count": null,
   "metadata": {},
   "outputs": [],
   "source": [
    "from sklearn.metrics import accuracy_score, precision_score, recall_score, f1_score\n",
    "\n"
   ]
  },
  {
   "cell_type": "markdown",
   "metadata": {},
   "source": [
    "#### Utiliza el algoritmo LogisticRegression de la librería scikit-learn.\n",
    "\n",
    "- Compara los resultados con tu algoritmo\n",
    "- Calcula la accuracy, precision, recall y f1-score"
   ]
  },
  {
   "cell_type": "code",
   "execution_count": 93,
   "metadata": {},
   "outputs": [],
   "source": [
    "from sklearn.linear_model import LogisticRegression\n",
    "\n",
    "#Completar"
   ]
  }
 ],
 "metadata": {
  "kernelspec": {
   "display_name": ".venv",
   "language": "python",
   "name": "python3"
  },
  "language_info": {
   "codemirror_mode": {
    "name": "ipython",
    "version": 3
   },
   "file_extension": ".py",
   "mimetype": "text/x-python",
   "name": "python",
   "nbconvert_exporter": "python",
   "pygments_lexer": "ipython3",
   "version": "3.11.7"
  }
 },
 "nbformat": 4,
 "nbformat_minor": 2
}
