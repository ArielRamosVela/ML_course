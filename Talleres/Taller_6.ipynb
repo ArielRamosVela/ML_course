{
 "cells": [
  {
   "cell_type": "markdown",
   "metadata": {},
   "source": [
    "### Cargar el training dataset"
   ]
  },
  {
   "cell_type": "code",
   "execution_count": 1,
   "metadata": {},
   "outputs": [],
   "source": [
    "import pandas as pd\n",
    "\n",
    "train = pd.read_csv('training.csv')\n"
   ]
  },
  {
   "cell_type": "markdown",
   "metadata": {},
   "source": [
    "### Haz el procesamiento de tu train dataset\n",
    "\n",
    "- Eliminar duplicados\n",
    "- Vamos a utilizar solo los siguientes features: Sex, Age, pClass, Fare, SibSp y Parch (6 en total)\n",
    "- Separa X y Y"
   ]
  },
  {
   "cell_type": "code",
   "execution_count": 37,
   "metadata": {},
   "outputs": [],
   "source": [
    "# Crea X_train e y_train"
   ]
  },
  {
   "cell_type": "code",
   "execution_count": 38,
   "metadata": {},
   "outputs": [],
   "source": [
    "# Haz el preprocesamiento que consideres necesario\n"
   ]
  },
  {
   "cell_type": "markdown",
   "metadata": {},
   "source": [
    "### Construye un DecisionTreeClassifier\n",
    "\n",
    "- Utiliza la librería scikit-learn\n",
    "- Entrena a tu clasifier utilizando X y y"
   ]
  },
  {
   "cell_type": "code",
   "execution_count": null,
   "metadata": {},
   "outputs": [],
   "source": [
    "from sklearn.tree import DecisionTreeClassifier\n",
    "\n",
    "# Crea el clasificador y entrénalo"
   ]
  },
  {
   "cell_type": "markdown",
   "metadata": {},
   "source": [
    "### Visualiza el arbol\n",
    "\n",
    "- Utiliza figsize=(60,40)\n",
    "- Utiliza un fontsize de 6\n",
    "- Puedes usar la función plot_tree de scikit-learn para visualizar el árbol de decisiones.\n",
    "- Descarga la imagen y observa como se han formado las ramas (branches)"
   ]
  },
  {
   "cell_type": "code",
   "execution_count": 2,
   "metadata": {},
   "outputs": [],
   "source": [
    "import matplotlib.pyplot as plt\n",
    "from sklearn.tree import plot_tree\n",
    "\n",
    "# Muestra el árbol"
   ]
  },
  {
   "cell_type": "markdown",
   "metadata": {},
   "source": [
    "### Carga el testing dataset\n",
    "\n",
    "- Haz los mismo pasos que hiciste para el training dataset:\n",
    "    - Preprocesar los datos\n",
    "    - Utilizar solo los 6 features mencionados\n",
    "    - Separar X y Y"
   ]
  },
  {
   "cell_type": "code",
   "execution_count": 57,
   "metadata": {},
   "outputs": [],
   "source": [
    "testing = pd.read_csv('testing.csv')\n",
    "\n",
    "# Crea X_test y y_test\n",
    "\n",
    "\n",
    "# Haz el MISMO preprocesamiento que hiciste con X_train"
   ]
  },
  {
   "cell_type": "markdown",
   "metadata": {},
   "source": [
    "### Calcula la exactitud (accuracy) de tu modelo\n",
    "\n",
    "- También grafica una matriz de confusión y evalua los resultados."
   ]
  },
  {
   "cell_type": "code",
   "execution_count": 59,
   "metadata": {},
   "outputs": [
    {
     "name": "stdout",
     "output_type": "stream",
     "text": [
      "Accuracy:  0.7597765363128491\n"
     ]
    },
    {
     "data": {
      "image/png": "[encoded data removed]",
      "text/plain": [
       "<Figure size 640x480 with 2 Axes>"
      ]
     },
     "metadata": {},
     "output_type": "display_data"
    }
   ],
   "source": [
    "from sklearn.metrics import accuracy_score\n",
    "from sklearn.metrics import confusion_matrix\n",
    "import seaborn as sns\n",
    "\n",
    "\n",
    "# Calcula la precisión del modelo\n",
    "\n",
    "\n",
    "\n",
    "# Calcular la matriz de confusión\n",
    "\n",
    "\n",
    "\n",
    "# Crear el mapa de calor de la matriz de confusión, te debería quedar algo como esto:\n"
   ]
  },
  {
   "cell_type": "markdown",
   "metadata": {},
   "source": [
    "### ¿Puedes mejorar la exactitud del modelo?\n",
    "\n",
    "- Puedes incluir más columnas en tu dataset\n",
    "- Puedes hacer otro tipo de preprocesamiento\n",
    "- Puedes modificar los hiperparametros de tu DecisionTreeClassifier\n",
    "    - max_depth\n",
    "    - min_samples_split\n"
   ]
  },
  {
   "cell_type": "code",
   "execution_count": null,
   "metadata": {},
   "outputs": [],
   "source": [
    "# Mejora el modelo, prueba con diferentes hiperparámetros y preprocesamientos"
   ]
  }
 ],
 "metadata": {
  "kernelspec": {
   "display_name": ".venv",
   "language": "python",
   "name": "python3"
  },
  "language_info": {
   "codemirror_mode": {
    "name": "ipython",
    "version": 3
   },
   "file_extension": ".py",
   "mimetype": "text/x-python",
   "name": "python",
   "nbconvert_exporter": "python",
   "pygments_lexer": "ipython3",
   "version": "3.11.7"
  }
 },
 "nbformat": 4,
 "nbformat_minor": 2
}
