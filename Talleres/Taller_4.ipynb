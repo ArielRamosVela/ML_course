{
 "cells": [
  {
   "cell_type": "markdown",
   "metadata": {},
   "source": [
    "# Introducción a ML y Generative AI - Taller #4 \n",
    "\n",
    "Este taller tiene como objetivo manipular un conjunto de datos de alturas y pesos, analizar los datos, visualizarlos y aplicar técnicas de regresión lineal. \n"
   ]
  },
  {
   "cell_type": "markdown",
   "metadata": {},
   "source": [
    "## 1. Instala la librería numpy (si aún no lo has hecho).\n",
    "\n",
    "```pip install numpy```"
   ]
  },
  {
   "cell_type": "markdown",
   "metadata": {},
   "source": [
    "## 2. Descarga el dataset del siguiente enlace.\n",
    "\n",
    "https://www.kaggle.com/datasets/burnoutminer/heights-and-weights-dataset"
   ]
  },
  {
   "cell_type": "markdown",
   "metadata": {},
   "source": [
    "## 3. Cargar el dataset"
   ]
  },
  {
   "cell_type": "code",
   "execution_count": 1,
   "metadata": {},
   "outputs": [],
   "source": [
    "import pandas as pd\n",
    "\n",
    "df = ### Completar\n"
   ]
  },
  {
   "cell_type": "code",
   "execution_count": null,
   "metadata": {},
   "outputs": [],
   "source": [
    "df.shape"
   ]
  },
  {
   "cell_type": "code",
   "execution_count": null,
   "metadata": {},
   "outputs": [],
   "source": [
    "df.head()"
   ]
  },
  {
   "cell_type": "code",
   "execution_count": null,
   "metadata": {},
   "outputs": [],
   "source": [
    "df.isnull().sum()"
   ]
  },
  {
   "cell_type": "markdown",
   "metadata": {},
   "source": [
    "## 4. Transforma los valores a cm y kg"
   ]
  },
  {
   "cell_type": "code",
   "execution_count": 8,
   "metadata": {},
   "outputs": [],
   "source": [
    "df['Altura'] = df['Height(Inches)'] * 2.54\n",
    "df['Peso'] = df['Weight(Pounds)'] * 0.453592\n",
    "\n",
    "# Eliminar columnas anteriores\n",
    "df.drop(['Height(Inches)', 'Weight(Pounds)'], axis=1, inplace=True)"
   ]
  },
  {
   "cell_type": "markdown",
   "metadata": {},
   "source": [
    "## 5. Visualiza los datos. Altura en el eje X y Peso en el eje Y\n",
    "\n",
    "- Puedes tomar solo un subset de los datos para que la visualización mejore (opcional)\n",
    "- Puedes utilizar la función plt.scatter https://matplotlib.org/stable/api/_as_gen/matplotlib.pyplot.scatter.html"
   ]
  },
  {
   "cell_type": "code",
   "execution_count": null,
   "metadata": {},
   "outputs": [],
   "source": [
    "import matplotlib.pyplot as plt\n",
    "\n",
    "### Completar\n",
    "\n"
   ]
  },
  {
   "cell_type": "markdown",
   "metadata": {},
   "source": [
    "## 6. Utiliza la librería numpy para extraer X y Y del dataset\n",
    "\n",
    "- Imprime el shape de **X** y **Y** para confirmar sus tamaños\n",
    "- Reshape **X** y **y** para que sean matrices. e.g (25000,) a (25000,1)"
   ]
  },
  {
   "cell_type": "code",
   "execution_count": 18,
   "metadata": {},
   "outputs": [],
   "source": [
    "import numpy as np\n",
    "\n",
    "X = ### Completar\n",
    "y = ### Completar"
   ]
  },
  {
   "cell_type": "code",
   "execution_count": null,
   "metadata": {},
   "outputs": [],
   "source": [
    "print('X shape:', X.shape)\n",
    "print('Y shape:', y.shape)"
   ]
  },
  {
   "cell_type": "code",
   "execution_count": 24,
   "metadata": {},
   "outputs": [],
   "source": [
    "# -1 significa que se ajusta al tamaño de la otra dimensión. También se puede usar X.reshape(X.size, 1)\n",
    "\n",
    "X = X.reshape(-1, 1) # -1 significa que se ajusta al tamaño de la otra dimensión\n",
    "y = y.reshape(-1, 1)"
   ]
  },
  {
   "cell_type": "code",
   "execution_count": null,
   "metadata": {},
   "outputs": [],
   "source": [
    "print('X shape:', X.shape)\n",
    "print('Y shape:', y.shape)"
   ]
  },
  {
   "cell_type": "markdown",
   "metadata": {},
   "source": [
    "## 7. Incluye la columna de unos a nuestros features (X)\n",
    "\n",
    "- Genera la columna de 1s (unos). Puedes utilizar https://numpy.org/doc/stable/reference/generated/numpy.ones.html\n",
    "- Incluye la columna a X utilizando np.concatenate https://numpy.org/doc/stable/reference/generated/numpy.concatenate.html\n",
    "- Verifica la nueva **shape** de **X** y mira sus valores"
   ]
  },
  {
   "cell_type": "code",
   "execution_count": 26,
   "metadata": {},
   "outputs": [],
   "source": []
  },
  {
   "cell_type": "code",
   "execution_count": null,
   "metadata": {},
   "outputs": [],
   "source": [
    "X.shape"
   ]
  },
  {
   "cell_type": "code",
   "execution_count": null,
   "metadata": {},
   "outputs": [],
   "source": [
    "X"
   ]
  },
  {
   "cell_type": "markdown",
   "metadata": {},
   "source": [
    "## 8. Recapitulación: Regresión Lineal\n",
    "\n",
    "### 8.1 Ecuación lineal\n",
    "\n",
    "$\\hat{y} = \\theta_{1} x_{1} + \\theta_{2}$\n",
    "\n",
    "### 8.2 Usando matrices\n",
    "\n",
    "$\\hat{Y} = X \\cdot \\theta$\n",
    "\n",
    "### 8.3 Cost Function\n",
    "\n",
    "$\\text{cost} = \\frac{1}{2m} \\sum (Y - {\\hat{Y}})^2$\n",
    "\n",
    "\n",
    "### 8.4 Gradient Descent (Algoritmo)\n",
    "\n",
    "- Inicializar $\\theta$ a cero \n",
    "\n",
    "- Repetir durante $i$ iteracciones:\n",
    "    - $\\hat{Y} = X \\cdot \\theta$\n",
    "\n",
    "    - $\\text{cost} = \\frac{1}{2m} \\sum (Y - {\\hat{Y}})^2$\n",
    "\n",
    "    - $d\\theta = \\frac{1}{m} X^T \\cdot (Y - {\\hat{Y}})$\n",
    "\n",
    "    - $\\theta = \\theta - \\alpha \\cdot d\\theta$"
   ]
  },
  {
   "cell_type": "markdown",
   "metadata": {},
   "source": [
    "## 9. Implementa el algoritmo de Gradient Descent\n",
    "\n",
    "- Comienza con 1000 iteraciones y luego cámbialo para explorar como cambia las métricas del modelo"
   ]
  },
  {
   "cell_type": "code",
   "execution_count": 79,
   "metadata": {},
   "outputs": [],
   "source": [
    "\n",
    "class MyLinearRegression:\n",
    "\n",
    "    def __init__(self, learning_rate, iterations):\n",
    "        self.learning_rate = learning_rate\n",
    "        self.iterations = iterations\n",
    "\n",
    "    def fit(self, X, y):\n",
    "\n",
    "        # Número de observaciones\n",
    "        m = ## Completar\n",
    "\n",
    "        # Inicializar los parámetros theta a cero\n",
    "\n",
    "        self.theta = ### Completar\n",
    "\n",
    "        for i in range(self.iterations):\n",
    "\n",
    "            # Calcular y_hat (hypotesis)\n",
    "\n",
    "            y_hat =  ### Completar\n",
    "\n",
    "            # Calcular el costo\n",
    "\n",
    "            cost = ### Completar\n",
    "\n",
    "            # Calcular el gradiente (la derivada de la función de costo)\n",
    "\n",
    "            d_theta = ### Completar\n",
    "\n",
    "            # Actualizar los parámetros theta\n",
    "            self.theta = ### Completar\n",
    "\n",
    "            if i % 100 == 0:\n",
    "                print(f'Iteración {i} - Costo: {cost}')\n",
    "\n",
    "    def predict(self, X):\n",
    "\n",
    "        return X.dot(self.theta)\n",
    "    "
   ]
  },
  {
   "cell_type": "markdown",
   "metadata": {},
   "source": [
    "## 10. Separa el dataset en training 80% y testing 20%\n",
    "\n",
    "- Utiliza un random_state = 0"
   ]
  },
  {
   "cell_type": "code",
   "execution_count": 80,
   "metadata": {},
   "outputs": [],
   "source": [
    "from sklearn.model_selection import train_test_split\n",
    "\n",
    "### Completar\n",
    "\n",
    "X_train, X_test, y_train, y_test = "
   ]
  },
  {
   "cell_type": "markdown",
   "metadata": {},
   "source": [
    "## 11. Entrena tu algoritmo con los datos de entrenamiento y evalualo con los datos de prueba\n",
    "\n",
    "- Utiliza un learning rate = 0.00000005\n",
    "- Intenta con un número diferente de iteraciones. Cuándo converge el algoritmo?"
   ]
  },
  {
   "cell_type": "code",
   "execution_count": 82,
   "metadata": {},
   "outputs": [],
   "source": [
    "lr = MyLinearRegression(learning_rate=0.00000005, iterations=3000)"
   ]
  },
  {
   "cell_type": "code",
   "execution_count": null,
   "metadata": {},
   "outputs": [],
   "source": [
    "# Entrenar el modelo usando la funcion fit\n",
    "\n",
    "\n",
    "### Completar\n"
   ]
  },
  {
   "cell_type": "code",
   "execution_count": null,
   "metadata": {},
   "outputs": [],
   "source": [
    "# Realizar predicciones en el conjunto de prueba. Utiliza la función predict\n",
    "\n",
    "y_pred = ### Completar"
   ]
  },
  {
   "cell_type": "markdown",
   "metadata": {},
   "source": [
    "### 11.1 Evalue el modelo utilizando MSE, MAE y R2"
   ]
  },
  {
   "cell_type": "code",
   "execution_count": null,
   "metadata": {},
   "outputs": [],
   "source": [
    "from sklearn.metrics import mean_squared_error, r2_score, mean_absolute_error\n",
    "\n",
    "# Calcular el error cuadrático medio\n",
    "mse = \n",
    "\n",
    "# Calcular el coeficiente de determinación\n",
    "r2 = \n",
    "\n",
    "# Calcular el error absoluto medio\n",
    "mae ="
   ]
  },
  {
   "cell_type": "markdown",
   "metadata": {},
   "source": [
    "## 12. Utiliza la librería sklearn y utiliza el modelo de regresión lineal. Compara los resultados con tu modelo"
   ]
  },
  {
   "cell_type": "code",
   "execution_count": 86,
   "metadata": {},
   "outputs": [],
   "source": [
    "from sklearn.linear_model import LinearRegression\n",
    "\n",
    "# Instanciar el modelo de regresión lineal de sklearn\n",
    "\n",
    "## Completar"
   ]
  },
  {
   "cell_type": "code",
   "execution_count": null,
   "metadata": {},
   "outputs": [],
   "source": [
    "# Entrenar el modelo\n",
    "\n",
    "## Completar\n"
   ]
  },
  {
   "cell_type": "code",
   "execution_count": 88,
   "metadata": {},
   "outputs": [],
   "source": [
    "# Realizar predicciones en el conjunto de prueba\n",
    "\n",
    "y_pred = "
   ]
  },
  {
   "cell_type": "code",
   "execution_count": null,
   "metadata": {},
   "outputs": [],
   "source": [
    "# Calcular el error cuadrático medio, el coeficiente de determinación y el error absoluto medio\n",
    "\n",
    "### Completar"
   ]
  },
  {
   "cell_type": "markdown",
   "metadata": {},
   "source": [
    "© 2024 Ariel Ramos. All rights reserved.\n"
   ]
  },
  {
   "cell_type": "markdown",
   "metadata": {},
   "source": []
  }
 ],
 "metadata": {
  "kernelspec": {
   "display_name": ".venv",
   "language": "python",
   "name": "python3"
  },
  "language_info": {
   "codemirror_mode": {
    "name": "ipython",
    "version": 3
   },
   "file_extension": ".py",
   "mimetype": "text/x-python",
   "name": "python",
   "nbconvert_exporter": "python",
   "pygments_lexer": "ipython3",
   "version": "3.11.7"
  }
 },
 "nbformat": 4,
 "nbformat_minor": 2
}
